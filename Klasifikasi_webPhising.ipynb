{
  "nbformat": 4,
  "nbformat_minor": 0,
  "metadata": {
    "colab": {
      "provenance": []
    },
    "kernelspec": {
      "name": "python3",
      "display_name": "Python 3"
    },
    "language_info": {
      "name": "python"
    }
  },
  "cells": [
    {
      "cell_type": "code",
      "source": [
        "import pandas as pd\n",
        "from sklearn.neighbors import KNeighborsClassifier\n",
        "from sklearn.model_selection import train_test_split\n",
        "from sklearn.metrics import accuracy_score\n",
        "\n",
        "# Membaca dataset\n",
        "dataset = pd.read_csv(\"phishing.csv\")\n",
        "\n",
        "# Memisahkan fitur dan label\n",
        "X = dataset[['length_url','length_hostname','nb_dots','nb_slash','page_rank']]\n",
        "y = dataset['status']\n",
        "\n",
        "print(X)\n"
      ],
      "metadata": {
        "colab": {
          "base_uri": "https://localhost:8080/"
        },
        "id": "Jptz9HlmT_mI",
        "outputId": "e20468f5-21fa-45ef-ac2a-7daf51a802bd"
      },
      "execution_count": null,
      "outputs": [
        {
          "output_type": "stream",
          "name": "stdout",
          "text": [
            "       length_url  length_hostname  nb_dots  nb_slash  page_rank\n",
            "0              37               19        3         3          4\n",
            "1              77               23        1         5          2\n",
            "2             126               50        4         5          0\n",
            "3              18               11        2         2          3\n",
            "4              55               15        2         5          6\n",
            "...           ...              ...      ...       ...        ...\n",
            "11425          45               17        2         4          6\n",
            "11426          84               18        5         5          0\n",
            "11427         105               16        2         5         10\n",
            "11428          38               30        2         3          4\n",
            "11429         477               14       24         4          0\n",
            "\n",
            "[11430 rows x 5 columns]\n"
          ]
        }
      ]
    },
    {
      "cell_type": "code",
      "source": [
        "X_train, X_test, y_train, y_test = train_test_split(X, y, test_size=0.2, random_state=42)\n",
        "knn = KNeighborsClassifier(n_neighbors=3)\n",
        "\n",
        "# Melatih model dengan data training\n",
        "knn.fit(X_train, y_train)\n",
        "\n",
        "\n",
        "# Memprediksi kelas untuk data testing\n",
        "y_pred = knn.predict(X_test)\n",
        "\n",
        "# Menghitung akurasi\n",
        "accuracy = accuracy_score(y_test, y_pred)\n",
        "print(\"Akurasi:\", accuracy)"
      ],
      "metadata": {
        "id": "_9-SG24ZVnwo",
        "colab": {
          "base_uri": "https://localhost:8080/"
        },
        "outputId": "28ebe148-b543-494d-cdce-d4d21b9b6a79"
      },
      "execution_count": null,
      "outputs": [
        {
          "output_type": "stream",
          "name": "stdout",
          "text": [
            "Akurasi: 0.8713910761154856\n"
          ]
        }
      ]
    },
    {
      "cell_type": "code",
      "source": [
        "# print(X_test)\n",
        "y_pred = knn.predict([[77,23,1,5,2]])\n",
        "print(y_pred)"
      ],
      "metadata": {
        "colab": {
          "base_uri": "https://localhost:8080/"
        },
        "id": "fByyCwE2pBbA",
        "outputId": "f8651045-3007-4d95-af35-0142a9bbfed6"
      },
      "execution_count": null,
      "outputs": [
        {
          "output_type": "stream",
          "name": "stdout",
          "text": [
            "['phishing']\n"
          ]
        },
        {
          "output_type": "stream",
          "name": "stderr",
          "text": [
            "/usr/local/lib/python3.10/dist-packages/sklearn/base.py:439: UserWarning: X does not have valid feature names, but KNeighborsClassifier was fitted with feature names\n",
            "  warnings.warn(\n"
          ]
        }
      ]
    },
    {
      "cell_type": "code",
      "execution_count": null,
      "metadata": {
        "colab": {
          "base_uri": "https://localhost:8080/"
        },
        "id": "uR2GYvI1BPYj",
        "outputId": "3936f63f-ae94-47d2-d56b-f609d45e207a"
      },
      "outputs": [
        {
          "output_type": "stream",
          "name": "stdout",
          "text": [
            "Masukkan urlhttp://shadetreetechnology.com/V4/validation/a111aedc8ae390eabcfa130e041a10a4\n",
            "Panjang URL: 77\n",
            "Panjang Domain: 23\n",
            "Jumlah Slash: 5\n",
            "Jumlah Dots: 1\n",
            "masukkan page rank [0-10] : 1\n",
            "Url yang anda masukkan berstatus :  phishing\n"
          ]
        },
        {
          "output_type": "stream",
          "name": "stderr",
          "text": [
            "/usr/local/lib/python3.10/dist-packages/sklearn/base.py:439: UserWarning: X does not have valid feature names, but KNeighborsClassifier was fitted with feature names\n",
            "  warnings.warn(\n"
          ]
        }
      ],
      "source": [
        "import urllib.parse\n",
        "import requests\n",
        "import socket\n",
        "from bs4 import BeautifulSoup\n",
        "import re\n",
        "from googlesearch import search\n",
        "# Fungsi untuk mendapatkan Page Rank menggunakan checkpagerank\n",
        "# def get_page_rank(url):\n",
        "#     rank = checkpage(url)\n",
        "#     return rank\n",
        "\n",
        "# Fungsi untuk mendapatkan panjang URL\n",
        "def get_url_length(url):\n",
        "    return len(url)\n",
        "\n",
        "# Fungsi untuk mendapatkan panjang domain\n",
        "def get_domain_length(url):\n",
        "    parsed_url = urllib.parse.urlparse(url)\n",
        "    domain = parsed_url.netloc\n",
        "    return len(domain)\n",
        "\n",
        "# Fungsi untuk mendapatkan jumlah slash\n",
        "def get_num_slash(url):\n",
        "    return url.count('/')\n",
        "\n",
        "# Fungsi untuk mendapatkan jumlah dots\n",
        "def get_num_dots(url):\n",
        "    return url.count('.')\n",
        "\n",
        "# Fungsi untuk mendapatkan alamat IP\n",
        "def get_ip_address(url):\n",
        "    try:\n",
        "        ip = socket.gethostbyname(url)\n",
        "        return ip\n",
        "    except socket.gaierror:\n",
        "        return None\n",
        "\n",
        "\n",
        "\n",
        "# Contoh penggunaan\n",
        "# url = \"http://shadetreetechnology.com/V4/validation/a111aedc8ae390eabcfa130e041a10a4\"\n",
        "\n",
        "url = input(\"Masukkan url\")\n",
        "\n",
        "length = get_url_length(url)\n",
        "print(\"Panjang URL:\", length)\n",
        "\n",
        "domain_length = get_domain_length(url)\n",
        "print(\"Panjang Domain:\", domain_length)\n",
        "\n",
        "slash_count = get_num_slash(url)\n",
        "print(\"Jumlah Slash:\", slash_count)\n",
        "\n",
        "dots_count = get_num_dots(url)\n",
        "print(\"Jumlah Dots:\", dots_count)\n",
        "\n",
        "page_rank = int(input(\"masukkan page rank [0-10] : \"))\n",
        "\n",
        "predict = knn.predict([[length,domain_length,dots_count,slash_count,page_rank]])\n",
        "\n",
        "print(\"Url yang anda masukkan berstatus : \" ,predict[0])\n",
        "\n",
        "# ip_address = get_ip_address(url)\n",
        "# print(\"Alamat IP:\", ip_address)\n",
        "\n",
        "# page_rank = get_page_rank(url)\n",
        "# print(\"Page Rank:\", page_rank)\n"
      ]
    }
  ]
}